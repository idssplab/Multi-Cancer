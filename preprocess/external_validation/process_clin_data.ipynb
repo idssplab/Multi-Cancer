{
 "cells": [
  {
   "cell_type": "code",
   "execution_count": 1,
   "metadata": {},
   "outputs": [],
   "source": [
    "import pandas as pd\n",
    "import numpy as np\n",
    "import os"
   ]
  },
  {
   "cell_type": "code",
   "execution_count": 2,
   "metadata": {},
   "outputs": [
    {
     "data": {
      "text/html": [
       "<div>\n",
       "<style scoped>\n",
       "    .dataframe tbody tr th:only-of-type {\n",
       "        vertical-align: middle;\n",
       "    }\n",
       "\n",
       "    .dataframe tbody tr th {\n",
       "        vertical-align: top;\n",
       "    }\n",
       "\n",
       "    .dataframe thead th {\n",
       "        text-align: right;\n",
       "    }\n",
       "</style>\n",
       "<table border=\"1\" class=\"dataframe\">\n",
       "  <thead>\n",
       "    <tr style=\"text-align: right;\">\n",
       "      <th></th>\n",
       "      <th>AGE</th>\n",
       "      <th>SEX</th>\n",
       "      <th>ETHNICITY</th>\n",
       "      <th>OS_STATUS</th>\n",
       "      <th>OS_MONTHS</th>\n",
       "    </tr>\n",
       "    <tr>\n",
       "      <th>PATIENT_ID</th>\n",
       "      <th></th>\n",
       "      <th></th>\n",
       "      <th></th>\n",
       "      <th></th>\n",
       "      <th></th>\n",
       "    </tr>\n",
       "  </thead>\n",
       "  <tbody>\n",
       "    <tr>\n",
       "      <th>sclc_ucologne_2015_S00022</th>\n",
       "      <td>47.0</td>\n",
       "      <td>Male</td>\n",
       "      <td>NaN</td>\n",
       "      <td>1:DECEASED</td>\n",
       "      <td>38.0</td>\n",
       "    </tr>\n",
       "    <tr>\n",
       "      <th>sclc_ucologne_2015_S00035</th>\n",
       "      <td>65.0</td>\n",
       "      <td>Female</td>\n",
       "      <td>NaN</td>\n",
       "      <td>1:DECEASED</td>\n",
       "      <td>12.0</td>\n",
       "    </tr>\n",
       "    <tr>\n",
       "      <th>sclc_ucologne_2015_S00050</th>\n",
       "      <td>47.0</td>\n",
       "      <td>Male</td>\n",
       "      <td>NaN</td>\n",
       "      <td>1:DECEASED</td>\n",
       "      <td>42.0</td>\n",
       "    </tr>\n",
       "    <tr>\n",
       "      <th>sclc_ucologne_2015_S00213</th>\n",
       "      <td>65.0</td>\n",
       "      <td>Male</td>\n",
       "      <td>NaN</td>\n",
       "      <td>1:DECEASED</td>\n",
       "      <td>13.0</td>\n",
       "    </tr>\n",
       "    <tr>\n",
       "      <th>sclc_ucologne_2015_S00356</th>\n",
       "      <td>54.0</td>\n",
       "      <td>Female</td>\n",
       "      <td>NaN</td>\n",
       "      <td>1:DECEASED</td>\n",
       "      <td>33.0</td>\n",
       "    </tr>\n",
       "  </tbody>\n",
       "</table>\n",
       "</div>"
      ],
      "text/plain": [
       "                            AGE     SEX ETHNICITY   OS_STATUS  OS_MONTHS\n",
       "PATIENT_ID                                                              \n",
       "sclc_ucologne_2015_S00022  47.0    Male       NaN  1:DECEASED       38.0\n",
       "sclc_ucologne_2015_S00035  65.0  Female       NaN  1:DECEASED       12.0\n",
       "sclc_ucologne_2015_S00050  47.0    Male       NaN  1:DECEASED       42.0\n",
       "sclc_ucologne_2015_S00213  65.0    Male       NaN  1:DECEASED       13.0\n",
       "sclc_ucologne_2015_S00356  54.0  Female       NaN  1:DECEASED       33.0"
      ]
     },
     "execution_count": 2,
     "metadata": {},
     "output_type": "execute_result"
    }
   ],
   "source": [
    "folder_path = '../../Data/sclc_ucologne_2015/'\n",
    "file_name = 'data_clinical_patient_original.txt'\n",
    "file_path = folder_path + '/' + file_name\n",
    "# Load the RNAseq data from the csv file\n",
    "data = pd.read_csv(file_path, sep='\\t', index_col=0, header=0,skiprows=4, usecols=['PATIENT_ID','AGE', 'ETHNICITY', 'SEX', 'OS_STATUS', 'OS_MONTHS']  )\n",
    "\n",
    "\n",
    "# the columns correspond to the patient IDs\n",
    "# delete rows with no OS_STATUS\n",
    "data = data[data['OS_STATUS'].notna()]\n",
    "# Get the column names\n",
    "data.head()"
   ]
  },
  {
   "cell_type": "code",
   "execution_count": 3,
   "metadata": {},
   "outputs": [],
   "source": [
    "data[\"race\"] = data[\"ETHNICITY\"]\n",
    "data['age_at_diagnosis'] = data['AGE']\n",
    "data['year_of_diagnosis'] = 2015 \n",
    "data['year_of_birth'] = 2015 - data['AGE'] \n",
    "data['overall_survival'] = data['OS_MONTHS']\n",
    "data['vital_status'] = data['OS_STATUS']\n",
    "data['disease_specific_survival'] = data['OS_MONTHS']\n",
    "data['primary_site'] = 'Bronchus and lung'\n"
   ]
  },
  {
   "cell_type": "code",
   "execution_count": 4,
   "metadata": {},
   "outputs": [],
   "source": [
    "#replace \"Asian\" with \"NOT HISPANIC OR LATINO, other with nan\n",
    "data[\"ETHNICITY\"].replace({\"Asian\": \"NOT HISPANIC OR LATINO\"}, inplace=True)\n",
    "#other with Nan\n",
    "\n",
    "# Replace all other values that are not \"NOT HISPANIC OR LATINO\" with NaN\n",
    "data[\"ETHNICITY\"] = data[\"ETHNICITY\"].apply(lambda x: \"NOT HISPANIC OR LATINO\" if x == \"NOT HISPANIC OR LATINO\" else np.nan)\n",
    "\n"
   ]
  },
  {
   "cell_type": "code",
   "execution_count": 5,
   "metadata": {},
   "outputs": [],
   "source": [
    "data[\"race\"].replace({\"Caucasian\": \"WHITE\", \"Asian\": \"ASIAN\"}, inplace=True)"
   ]
  },
  {
   "cell_type": "code",
   "execution_count": 6,
   "metadata": {},
   "outputs": [],
   "source": [
    "#change column names\n",
    "data.rename(columns = {'PATIENT_ID':'patient_id', 'SEX': 'gender', 'ETHNICITY':'ethnicity' }, inplace = True)"
   ]
  },
  {
   "cell_type": "code",
   "execution_count": 7,
   "metadata": {},
   "outputs": [],
   "source": [
    "#drop AGE, OS_STATUS, OS_MONTHS\n",
    "data.drop(columns = ['AGE', 'OS_STATUS', 'OS_MONTHS'], inplace = True)"
   ]
  },
  {
   "cell_type": "code",
   "execution_count": 8,
   "metadata": {},
   "outputs": [],
   "source": [
    "#replace vital status labels  for binary classification, \n",
    "# nomenclature 1:DECEASED 0:LIVING\n",
    "# just keep 1 or 0\n",
    "data[\"vital_status\"].replace({\"1:DECEASED\": 1, \"0:LIVING\": 0}, inplace=True)\n",
    "\n"
   ]
  },
  {
   "cell_type": "code",
   "execution_count": 9,
   "metadata": {},
   "outputs": [],
   "source": [
    "#show unique values for ethnicity and race\n",
    "data.ethnicity.unique()\n",
    "\n",
    "#use new encoding:\n",
    "#0: Not Known\n",
    "#1: 'NOT HISPANIC OR LATINO'\n",
    "\n",
    "\n",
    "data.ethnicity.replace({\"NOT HISPANIC OR LATINO\": 1}, inplace=True)\n",
    "data.ethnicity.fillna(0, inplace=True)\n"
   ]
  },
  {
   "cell_type": "code",
   "execution_count": 10,
   "metadata": {},
   "outputs": [],
   "source": [
    "data.race.unique()\n",
    "\n",
    "\n",
    "data.race.replace({\"WHITE\": 1, \"ASIAN\": 2}, inplace=True)\n",
    "data.race.fillna(0, inplace=True)"
   ]
  },
  {
   "cell_type": "code",
   "execution_count": 16,
   "metadata": {},
   "outputs": [
    {
     "name": "stdout",
     "output_type": "stream",
     "text": [
      "(110, 10)\n"
     ]
    }
   ],
   "source": [
    "data.head()\n",
    "print(data.shape)"
   ]
  },
  {
   "cell_type": "code",
   "execution_count": 12,
   "metadata": {},
   "outputs": [],
   "source": [
    "#print the row for which overall_survival is nan\n",
    "data[data['overall_survival'].isnull()]\n",
    "#drop this row from the dataframe\n",
    "data.dropna(subset=['overall_survival'], inplace=True)\n"
   ]
  },
  {
   "cell_type": "code",
   "execution_count": 17,
   "metadata": {},
   "outputs": [
    {
     "data": {
      "text/plain": [
       "110"
      ]
     },
     "execution_count": 17,
     "metadata": {},
     "output_type": "execute_result"
    }
   ],
   "source": [
    "# count overall_survival values over 60 months\n",
    "data.overall_survival.value_counts().agg('sum')"
   ]
  },
  {
   "cell_type": "code",
   "execution_count": 71,
   "metadata": {},
   "outputs": [],
   "source": [
    "#save to tsv\n",
    "data.to_csv(folder_path + '/data_clinical_patient.csv', sep=',')\n"
   ]
  },
  {
   "cell_type": "code",
   "execution_count": 72,
   "metadata": {},
   "outputs": [],
   "source": [
    "#smaller dataset for testing, with less columns (patients) and rows (genes)\n",
    "\n",
    "# data = data.iloc[:5, :5]\n",
    "# data.to_csv(folder_path + '/data_clinical_patient_small.csv', sep='\\t')\n"
   ]
  },
  {
   "cell_type": "code",
   "execution_count": null,
   "metadata": {},
   "outputs": [],
   "source": []
  }
 ],
 "metadata": {
  "kernelspec": {
   "display_name": "progpred",
   "language": "python",
   "name": "python3"
  },
  "language_info": {
   "codemirror_mode": {
    "name": "ipython",
    "version": 3
   },
   "file_extension": ".py",
   "mimetype": "text/x-python",
   "name": "python",
   "nbconvert_exporter": "python",
   "pygments_lexer": "ipython3",
   "version": "3.9.17"
  }
 },
 "nbformat": 4,
 "nbformat_minor": 2
}
